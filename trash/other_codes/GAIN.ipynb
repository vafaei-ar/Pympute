{
 "cells": [
  {
   "cell_type": "code",
   "execution_count": 1,
   "metadata": {},
   "outputs": [],
   "source": [
    "import numpy as np\n",
    "import pylab as plt\n",
    "import pandas as pd\n",
    "import pyreadr\n",
    "import tensorflow as tf\n",
    "import pandas as pd\n",
    "\n",
    "# import tensorflow.compat.v1 as tf\n",
    "# tf.disable_v2_behavior()\n",
    "# from keras.datasets import mnist\n",
    "\n",
    "import numpy as np\n",
    "import matplotlib.pyplot as plt\n",
    "import pandas as pd\n",
    "\n",
    "# To use this experimental feature, we need to explicitly ask for it:\n",
    "from sklearn.experimental import enable_iterative_imputer  # noqa\n",
    "from sklearn.datasets import fetch_california_housing\n",
    "from sklearn.impute import SimpleImputer\n",
    "from sklearn.impute import IterativeImputer\n",
    "from sklearn.linear_model import BayesianRidge\n",
    "from sklearn.tree import DecisionTreeRegressor\n",
    "from sklearn.ensemble import ExtraTreesRegressor\n",
    "from sklearn.neighbors import KNeighborsRegressor\n",
    "from sklearn.pipeline import make_pipeline\n",
    "from sklearn.model_selection import cross_val_score\n",
    "from sklearn.metrics import r2_score\n",
    "\n",
    "from keras.layers import Input, Dense, Reshape, Flatten\n",
    "from keras.layers import BatchNormalization\n",
    "from keras.layers.advanced_activations import LeakyReLU\n",
    "from keras.models import Sequential, Model\n",
    "from keras.losses import BinaryCrossentropy\n",
    "from keras.optimizers import Adam\n",
    "import matplotlib.pyplot as plt\n",
    "\n",
    "def normalization (data, parameters=None):\n",
    "    '''Normalize data in [0, 1] range.\n",
    "    \n",
    "    Args:\n",
    "        - data: original data\n",
    "    \n",
    "    Returns:\n",
    "        - norm_data: normalized data\n",
    "        - norm_parameters: min_val, max_val for each feature for renormalization\n",
    "    '''\n",
    "\n",
    "    # Parameters\n",
    "    _, dim = data.shape\n",
    "    norm_data = data.copy()\n",
    "    \n",
    "    if parameters is None:\n",
    "    \n",
    "        # MixMax normalization\n",
    "        min_val = np.zeros(dim)\n",
    "        max_val = np.zeros(dim)\n",
    "        \n",
    "        # For each dimension\n",
    "        for i in range(dim):\n",
    "            min_val[i] = np.nanmin(norm_data[:,i])\n",
    "            norm_data[:,i] = norm_data[:,i] - np.nanmin(norm_data[:,i])\n",
    "            max_val[i] = np.nanmax(norm_data[:,i])\n",
    "            norm_data[:,i] = norm_data[:,i] / (np.nanmax(norm_data[:,i]) + 1e-6)     \n",
    "            \n",
    "        # Return norm_parameters for renormalization\n",
    "        norm_parameters = {'min_val': min_val,\n",
    "                                             'max_val': max_val}\n",
    "\n",
    "    else:\n",
    "        min_val = parameters['min_val']\n",
    "        max_val = parameters['max_val']\n",
    "        \n",
    "        # For each dimension\n",
    "        for i in range(dim):\n",
    "            norm_data[:,i] = norm_data[:,i] - min_val[i]\n",
    "            norm_data[:,i] = norm_data[:,i] / (max_val[i] + 1e-6)    \n",
    "            \n",
    "        norm_parameters = parameters        \n",
    "            \n",
    "    return norm_data, norm_parameters\n",
    "\n",
    "\n",
    "def renormalization (norm_data, norm_parameters):\n",
    "    '''Renormalize data from [0, 1] range to the original range.\n",
    "    \n",
    "    Args:\n",
    "        - norm_data: normalized data\n",
    "        - norm_parameters: min_val, max_val for each feature for renormalization\n",
    "    \n",
    "    Returns:\n",
    "        - renorm_data: renormalized original data\n",
    "    '''\n",
    "    \n",
    "    min_val = norm_parameters['min_val']\n",
    "    max_val = norm_parameters['max_val']\n",
    "\n",
    "    _, dim = norm_data.shape\n",
    "    renorm_data = norm_data.copy()\n",
    "        \n",
    "    for i in range(dim):\n",
    "        renorm_data[:,i] = renorm_data[:,i] * (max_val[i] + 1e-6)     \n",
    "        renorm_data[:,i] = renorm_data[:,i] + min_val[i]\n",
    "        \n",
    "    return renorm_data\n",
    "\n",
    "def rmse_loss (ori_data, imputed_data, data_m):\n",
    "    '''Compute RMSE loss between ori_data and imputed_data\n",
    "    \n",
    "    Args:\n",
    "        - ori_data: original data without missing values\n",
    "        - imputed_data: imputed data\n",
    "        - data_m: indicator matrix for missingness\n",
    "        \n",
    "    Returns:\n",
    "        - rmse: Root Mean Squared Error\n",
    "    '''\n",
    "    \n",
    "    ori_data, norm_parameters = normalization(ori_data)\n",
    "    imputed_data, _ = normalization(imputed_data, norm_parameters)\n",
    "        \n",
    "    # Only for missing values\n",
    "    nominator = np.sum(data_m * ( ori_data - imputed_data)**2)\n",
    "    denominator = np.sum(data_m)\n",
    "    \n",
    "    rmse = np.sqrt(nominator/float(denominator))\n",
    "    \n",
    "    return rmse\n",
    "\n",
    "def binary_sampler(p, rows, cols):\n",
    "    '''Sample binary random variables.\n",
    "    \n",
    "    Args:\n",
    "        - p: probability of 1\n",
    "        - rows: the number of rows\n",
    "        - cols: the number of columns\n",
    "        \n",
    "    Returns:\n",
    "        - binary_random_matrix: generated binary random matrix.\n",
    "    '''\n",
    "    unif_random_matrix = np.random.uniform(0., 1., size = [rows, cols])\n",
    "    binary_random_matrix = 1*(unif_random_matrix < p)\n",
    "    return binary_random_matrix\n",
    "\n",
    "\n",
    "def uniform_sampler(low, high, rows, cols):\n",
    "    '''Sample uniform random variables.\n",
    "    \n",
    "    Args:\n",
    "        - low: low limit\n",
    "        - high: high limit\n",
    "        - rows: the number of rows\n",
    "        - cols: the number of columns\n",
    "        \n",
    "    Returns:\n",
    "        - uniform_random_matrix: generated uniform random matrix.\n",
    "    '''\n",
    "    return np.random.uniform(low, high, size = [rows, cols])             \n",
    "\n",
    "\n",
    "def sample_batch_index(total, batch_size):\n",
    "    '''Sample index of the mini-batch.\n",
    "    \n",
    "    Args:\n",
    "        - total: total number of samples\n",
    "        - batch_size: batch size\n",
    "        \n",
    "    Returns:\n",
    "        - batch_idx: batch index\n",
    "    '''\n",
    "    total_idx = np.random.permutation(total)\n",
    "    batch_idx = total_idx[:batch_size]\n",
    "    return batch_idx\n",
    "\n",
    "def data_load(prefix='data/',i=0,part = '1st'):\n",
    "\n",
    "    frame = {'data':[],'masked':[]}\n",
    "    template = 'dffinal_repeat_select_widformat_t{}_{}{}.RData'\n",
    "    for typ in ['','masked_']:\n",
    "        fname = template.format(i,typ,part)\n",
    "        result = pyreadr.read_r(prefix+fname)\n",
    "        key = list(result.keys())[0]\n",
    "        if typ=='':\n",
    "            frame['data'] = result[key]\n",
    "        else:\n",
    "            frame['masked'] = result[key]\n",
    "\n",
    "    return frame"
   ]
  },
  {
   "cell_type": "code",
   "execution_count": 2,
   "metadata": {},
   "outputs": [],
   "source": [
    "# file_name = './GAIN/data/letter.csv'\n",
    "# # file_name = './datasets/recipeData.csv'\n",
    "# miss_rate = 0.03\n",
    "\n",
    "\n",
    "# df = pd.read_csv(file_name, encoding='latin-1')\n",
    "# cols = df.columns\n",
    "# skips = []#['Name', 'URL', 'BeerID']\n",
    "# df = df.drop(labels=skips, axis=1)\n",
    "# cols = df.columns\n",
    "# skips2 = []\n",
    "# for col in cols:\n",
    "#     d = df[col]\n",
    "#     isnumber = (d.dtype==float) or (d.dtype==int)\n",
    "#     if isnumber:\n",
    "#         pass\n",
    "#     else:\n",
    "#         nclass = len(np.unique(d.values.astype(str)))\n",
    "#         skips2.append(col)\n",
    "# #         if nclass<5:\n",
    "# #             pass\n",
    "# #         else:\n",
    "\n",
    "# df = df.drop(labels=skips2, axis=1)\n",
    "# cols = df.columns  \n",
    "# orig_data = df.values.astype(float)\n",
    "\n",
    "# missed = np.random.uniform(0,1,df.shape)<miss_rate\n",
    "# w_part = orig_data+0\n",
    "# w_part[missed] = np.nan\n",
    "# c_part = orig_data[np.logical_not(np.any(missed,axis=1))]\n",
    "\n",
    "# print(np.any(missed,axis=1).mean())\n",
    "# print(w_part.shape,c_part.shape,missed.shape)"
   ]
  },
  {
   "cell_type": "code",
   "execution_count": null,
   "metadata": {},
   "outputs": [],
   "source": []
  },
  {
   "cell_type": "code",
   "execution_count": 4,
   "metadata": {},
   "outputs": [
    {
     "name": "stdout",
     "output_type": "stream",
     "text": [
      "(9037, 45)\n"
     ]
    }
   ],
   "source": [
    "i = 1\n",
    "j = '1st' #,'2nd','3rd'\n",
    "\n",
    "frame = data_load(prefix='data/',i=i,part = j)\n",
    "\n",
    "\n",
    "\n",
    "data0 = frame['data'].drop(columns=['PT_ID']).values\n",
    "data1 = frame['masked'].drop(columns=['PT_ID']).values\n",
    "\n",
    "xx = frame['data'].drop(columns=['PT_ID']).values\n",
    "\n",
    "normin = xx.min(axis=0)\n",
    "xx = xx-normin[None,:]\n",
    "normax = xx.max(axis=0)\n",
    "xx = xx/normax[None,:]\n",
    "\n",
    "notmask = ~np.isnan(data1)\n",
    "# np.mean(data_m)\n",
    "\n",
    "no,dim = xx.shape\n",
    "print(xx.shape)"
   ]
  },
  {
   "cell_type": "code",
   "execution_count": 5,
   "metadata": {},
   "outputs": [
    {
     "data": {
      "text/plain": [
       "<matplotlib.image.AxesImage at 0x7ff92c157760>"
      ]
     },
     "execution_count": 5,
     "metadata": {},
     "output_type": "execute_result"
    },
    {
     "data": {
      "image/png": "[encoded data removed]",
      "text/plain": [
       "<Figure size 1296x288 with 1 Axes>"
      ]
     },
     "metadata": {
      "needs_background": "light"
     },
     "output_type": "display_data"
    }
   ],
   "source": [
    "i = 1\n",
    "j = '1st' #,'2nd','3rd'\n",
    "frame = data_load(prefix='data/',i=i,part = j)\n",
    "fig,ax = plt.subplots(1,1,figsize=(18,4))\n",
    "msk = np.isnan(frame['masked']).values.T\n",
    "ax.imshow(msk,aspect='auto',cmap='gray',interpolation='none')"
   ]
  },
  {
   "cell_type": "code",
   "execution_count": 6,
   "metadata": {},
   "outputs": [],
   "source": [
    "from keras.layers import Input, Dense, Reshape, Flatten\n",
    "from keras.layers import BatchNormalization\n",
    "from keras.layers.advanced_activations import LeakyReLU\n",
    "from keras.models import Sequential, Model\n",
    "from keras.optimizers import Adam\n",
    "import matplotlib.pyplot as plt\n",
    "import numpy as np\n",
    "\n",
    "\n",
    "## GAIN loss\n",
    "# D_loss_temp = -tf.reduce_mean(M * tf.log(D_prob + 1e-8)+ (1-M) * tf.log(1. - D_prob + 1e-8)) \n",
    "# G_loss_temp = -tf.reduce_mean((1-M) * tf.log(D_prob + 1e-8))\n",
    "# MSE_loss = tf.reduce_mean((M * X - M * G_sample)**2) / tf.reduce_mean(M)\n",
    "# D_loss = D_loss_temp\n",
    "# G_loss = G_loss_temp + alpha * MSE_loss \n",
    "def d_loss(M,D_prob):\n",
    "    D_loss_temp = -tf.reduce_mean(M * tf.math.log(D_prob + 1e-8) + (1-M) * tf.math.log(1. - D_prob + 1e-8)) \n",
    "    return D_loss_temp\n",
    "    \n",
    "def g_loss1(M,D_prob):\n",
    "    G_loss_temp = -tf.reduce_mean((1-M) * tf.math.log(D_prob + 1e-8))\n",
    "    return G_loss_temp\n",
    "\n",
    "def g_loss2(rvals,nng):\n",
    "    MSE_loss = tf.reduce_mean((rvals - nng)**2) \n",
    "    return MSE_loss\n",
    "\n",
    "class GAIN:\n",
    "    def __init__(self,dim,alpha):\n",
    "\n",
    "        tf.keras.backend.clear_session()\n",
    "        # Data vector\n",
    "        X = tf.keras.layers.Input(shape=dim)\n",
    "        # Mask vector \n",
    "        M = tf.keras.layers.Input(shape=dim)\n",
    "        # Hint vector\n",
    "        H = tf.keras.layers.Input(shape=dim)\n",
    "        h_dim = int(dim)//2\n",
    "        g_con = tf.keras.layers.Concatenate(axis=1)([X, M])\n",
    "        g_1 = tf.keras.layers.Dense(h_dim,activation='relu')(g_con)\n",
    "        g_2 = tf.keras.layers.Dense(h_dim,activation='relu')(g_1)\n",
    "        g_2 = tf.keras.layers.Dropout(0.3)(g_2)\n",
    "        g_3 = tf.keras.layers.Dense(dim,activation='relu')(g_2)\n",
    "        Hat_inp = X * M + g_3 * (1-M)\n",
    "        nng = g_3 * M\n",
    "        \n",
    "        d_con = tf.keras.layers.Concatenate(axis=1)([X, H])\n",
    "        d_1 = tf.keras.layers.Dense(h_dim,activation='relu')(d_con)\n",
    "        d_2 = tf.keras.layers.Dense(h_dim,activation='relu')(d_1)\n",
    "        d_3 = tf.keras.layers.Dense(dim,activation='sigmoid')(d_2)\n",
    "\n",
    "        # Generator\n",
    "        self.generator = tf.keras.Model(inputs=[X,M], outputs=[Hat_inp],name='generator')\n",
    "        self.discriminator = tf.keras.Model(inputs=[X,H], outputs=[d_3],name='discriminator')\n",
    "\n",
    "        # generator.summary()\n",
    "        # discriminator.summary()\n",
    "        Hat_X = self.generator([X, M])\n",
    "\n",
    "        # Discriminator\n",
    "        D_prob = self.discriminator([Hat_X, H])\n",
    "\n",
    "        optimizer = Adam(0.001, 0.5)\n",
    "#         self.discriminator.compile(loss=d_loss,\n",
    "#                               optimizer=optimizer,\n",
    "#                               metrics=['accuracy'])\n",
    "        dls = BinaryCrossentropy(from_logits=True)\n",
    "        self.discriminator.compile(loss=dls,#'binary_crossentropy',\n",
    "                              optimizer=optimizer,\n",
    "                              metrics=['accuracy'])\n",
    "\n",
    "        self.combined = Model(inputs=[X,M,H] , outputs=[D_prob, nng])\n",
    "        gls = BinaryCrossentropy(from_logits=True)\n",
    "        \n",
    "        if alpha==0:\n",
    "            self.combined.compile(loss=[gls],optimizer=optimizer,metrics=['accuracy'])\n",
    "        else:\n",
    "            self.combined.compile(loss=[gls,'mse'],\n",
    "                             loss_weights=[1-alpha,alpha],\n",
    "                             optimizer=optimizer,metrics=['accuracy'])\n",
    "            \n",
    "#         self.combined.compile(loss=[g_loss1,g_loss2],\n",
    "#                          loss_weights=[1-alpha,alpha],\n",
    "#                          optimizer=optimizer)\n",
    "    def train(self,x,notmask,epochs,batch_size=128,hint_rate=0.8):\n",
    "        \n",
    "        no,dim = x.shape\n",
    "        loss1 = []\n",
    "        loss2 = []\n",
    "\n",
    "        for it in range(epochs):        \n",
    "\n",
    "            batch_idx = sample_batch_index(no, batch_size)\n",
    "            x_map = x[batch_idx, :]    \n",
    "            mask_map = notmask[batch_idx, :]\n",
    "            r_map = uniform_sampler(0, 0.01, batch_size, dim) \n",
    "            hint_map = binary_sampler(hint_rate, batch_size, dim)\n",
    "            hint_map = mask_map * hint_map\n",
    "            rvals = mask_map * x_map\n",
    "\n",
    "            x_map = x_map.astype(np.float32)\n",
    "            hint_map = hint_map.astype(np.float32)\n",
    "            mask_map = mask_map.astype(np.float32)\n",
    "            rvals = rvals.astype(np.float32)\n",
    "\n",
    "            loss1.append(gain.discriminator.train_on_batch(x=[x_map,hint_map],y=mask_map))\n",
    "            loss2.append(gain.combined.train_on_batch(x=[x_map,mask_map,hint_map],y=[mask_map,rvals]))\n",
    "            \n",
    "        loss1 = np.array(loss1)\n",
    "        loss2 = np.array(loss2)\n",
    "            \n",
    "        return loss1,loss2"
   ]
  },
  {
   "cell_type": "code",
   "execution_count": 7,
   "metadata": {},
   "outputs": [],
   "source": [
    "# hint_rate = 0.99\n",
    "# batch_idx = sample_batch_index(no, batch_size)\n",
    "# x_map = xx[batch_idx, :]    \n",
    "# mask_map = data_m[batch_idx, :]\n",
    "# r_map = uniform_sampler(0, 0.01, batch_size, dim) \n",
    "# hint_map = binary_sampler(hint_rate, batch_size, dim)\n",
    "# hint_map = mask_map * hint_map\n",
    "\n",
    "\n",
    "# fig, (ax1,ax2) = plt.subplots(1,2,figsize=(16,8))\n",
    "\n",
    "# ax1.imshow(mask_map.T)\n",
    "# ax2.imshow(hint_map.T)\n"
   ]
  },
  {
   "cell_type": "code",
   "execution_count": 8,
   "metadata": {},
   "outputs": [
    {
     "data": {
      "text/plain": [
       "[<matplotlib.lines.Line2D at 0x7ff8dc3cb730>]"
      ]
     },
     "execution_count": 8,
     "metadata": {},
     "output_type": "execute_result"
    },
    {
     "data": {
      "image/png": "[encoded data removed]",
      "text/plain": [
       "<Figure size 432x288 with 1 Axes>"
      ]
     },
     "metadata": {
      "needs_background": "light"
     },
     "output_type": "display_data"
    }
   ],
   "source": [
    "batch_size = 256\n",
    "epochs = 1000\n",
    "alpha = 0.0\n",
    "hint_rate = 0.7\n",
    "\n",
    "frame = data_load(prefix='data/',i=i,part = j)\n",
    "\n",
    "xx = frame['data'].drop(columns=['PT_ID']).values\n",
    "normin = xx.min(axis=0)\n",
    "xx = xx-normin[None,:]\n",
    "normax = xx.max(axis=0)\n",
    "xx = xx/normax[None,:]\n",
    "\n",
    "masked = frame['masked'].drop(columns=['PT_ID']).values\n",
    "notmask = ~np.isnan(masked)\n",
    "# np.mean(data_m)\n",
    "\n",
    "no,dim = xx.shape\n",
    "\n",
    "\n",
    "inds = np.arange(no)\n",
    "np.random.shuffle(inds)\n",
    "\n",
    "n_train = 6000\n",
    "\n",
    "x_train = xx[inds[:n_train]]\n",
    "nmask_train = notmask[inds[:n_train]]\n",
    "x_test = xx[inds[n_train:]]\n",
    "nmask_test = notmask[inds[n_train:]]\n",
    "\n",
    "gain = GAIN(dim,alpha)\n",
    "loss1,loss2 = gain.train(x_train,nmask_train,epochs=epochs,batch_size=batch_size,hint_rate=hint_rate)\n",
    "\n",
    "plt.plot(loss1[:,0],'r')\n",
    "plt.plot(loss1[:,1],'b')\n",
    "plt.plot(loss2[:,1],'g--')\n",
    "plt.plot(loss2[:,3],'k--')"
   ]
  },
  {
   "cell_type": "code",
   "execution_count": 9,
   "metadata": {},
   "outputs": [],
   "source": [
    "# hint = np.random.uniform(0,1,x_test.shape)\n",
    "# mpred = gain.discriminator.predict([x_test,hint])\n",
    "# np.mean(nmask_test==mpred)"
   ]
  },
  {
   "cell_type": "code",
   "execution_count": 10,
   "metadata": {},
   "outputs": [
    {
     "data": {
      "text/plain": [
       "-20574.194179539"
      ]
     },
     "execution_count": 10,
     "metadata": {},
     "output_type": "execute_result"
    }
   ],
   "source": [
    "# pred = gain.generator.predict([x_train, nmask_train])\n",
    "# pv = pred[~nmask_train.astype(bool)]\n",
    "# xv = x_train[~nmask_train.astype(bool)]\n",
    "# pv = pred\n",
    "# xv = x_train\n",
    "\n",
    "pred = gain.generator.predict([x_test, nmask_test])\n",
    "pv = pred[~nmask_test.astype(bool)]\n",
    "xv = x_test[~nmask_test.astype(bool)]\n",
    "# pv = pred\n",
    "# xv = x_test\n",
    "\n",
    "r2_score(xv,pv)"
   ]
  },
  {
   "cell_type": "code",
   "execution_count": null,
   "metadata": {},
   "outputs": [],
   "source": []
  },
  {
   "cell_type": "code",
   "execution_count": 151,
   "metadata": {},
   "outputs": [],
   "source": [
    "# [i,j,strategy,r2_score(xv,pv)]\n",
    "scr_all = np.load('res/scr_all.npy')\n",
    "scr_all = scr_all[scr_all[:,2]!='DecisionTreeRegressor']"
   ]
  },
  {
   "cell_type": "code",
   "execution_count": 152,
   "metadata": {},
   "outputs": [
    {
     "data": {
      "text/plain": [
       "0.07778387542678478"
      ]
     },
     "execution_count": 152,
     "metadata": {},
     "output_type": "execute_result"
    }
   ],
   "source": [
    "scr_all[:,3].astype(float).max()"
   ]
  },
  {
   "cell_type": "code",
   "execution_count": 153,
   "metadata": {},
   "outputs": [
    {
     "data": {
      "image/png": "[encoded data removed]",
      "text/plain": [
       "<Figure size 1080x504 with 1 Axes>"
      ]
     },
     "metadata": {
      "needs_background": "light"
     },
     "output_type": "display_data"
    }
   ],
   "source": [
    "import matplotlib\n",
    "import matplotlib.pyplot as plt\n",
    "import numpy as np\n",
    "\n",
    "\n",
    "labels = np.unique(['{}-{}'.format(i,j) for i,j in scr_all[:,:2]])\n",
    "\n",
    "dx = 0.05  # the width of the bars\n",
    "x = np.arange(len(labels))  # the label locations\n",
    "\n",
    "\n",
    "fig, ax = plt.subplots(1,1,figsize=(15,7))\n",
    "\n",
    "for i,ii in enumerate(np.unique(scr_all[:,2])):\n",
    "    if ii=='DecisionTreeRegressor':\n",
    "        continue\n",
    "    \n",
    "    y = scr_all[scr_all[:,2]==ii][:,-1].astype(float)\n",
    "    \n",
    "    rects1 = ax.bar(x+i*dx, y, dx, label=ii)\n",
    "\n",
    "ax.set_yticks([-0.1,0,0.1])\n",
    "ax.set_ylabel('$R^2$',fontsize=20)\n",
    "ax.set_xticks(x+2*dx)\n",
    "\n",
    "ax.tick_params(axis='both', which='major', labelsize=15)\n",
    "ax.tick_params(axis='both', which='minor', labelsize=8)\n",
    "\n",
    "ax.grid(True)\n",
    "ax.set_xticklabels(labels)\n",
    "ax.legend(fontsize=20)\n",
    "\n",
    "# def autolabel(rects):\n",
    "#     \"\"\"Attach a text label above each bar in *rects*, displaying its height.\"\"\"\n",
    "#     for rect in rects:\n",
    "#         height = rect.get_height()\n",
    "#         ax.annotate('{}'.format(height),\n",
    "#                     xy=(rect.get_x() + rect.get_width() / 2, height),\n",
    "#                     xytext=(0, 3),  # 3 points vertical offset\n",
    "#                     textcoords=\"offset points\",\n",
    "#                     ha='center', va='bottom')\n",
    "\n",
    "\n",
    "# autolabel(rects1)\n",
    "# autolabel(rects2)\n",
    "\n",
    "fig.tight_layout()\n",
    "\n",
    "plt.show()"
   ]
  },
  {
   "cell_type": "code",
   "execution_count": 115,
   "metadata": {},
   "outputs": [],
   "source": [
    "# scr_col[:,5][::45]"
   ]
  },
  {
   "cell_type": "code",
   "execution_count": 154,
   "metadata": {},
   "outputs": [],
   "source": [
    "# [i,j,strategy,col,r2_score(xv,pv),scores_base[col]]\n",
    "scr_col = np.load('res/scr_col.npy')\n",
    "scr_col = scr_col[scr_col[:,2]!='DecisionTreeRegressor']"
   ]
  },
  {
   "cell_type": "code",
   "execution_count": 161,
   "metadata": {},
   "outputs": [
    {
     "data": {
      "image/png": "[encoded data removed]",
      "text/plain": [
       "<Figure size 1080x504 with 1 Axes>"
      ]
     },
     "metadata": {
      "needs_background": "light"
     },
     "output_type": "display_data"
    }
   ],
   "source": [
    "labels = np.unique(scr_col[:,3])\n",
    "dx = 0.1  # the width of the bars\n",
    "x = np.arange(len(labels))  # the label locations\n",
    "lblsf = ['{}-{}-{}'.format(i,j,k) for i,j,k in scr_col[:,:3]]\n",
    "\n",
    "for i in ['0','1'][:1]:\n",
    "    for j in ['1st','2nd','3rd'][:1]:\n",
    "        fig, ax = plt.subplots(1,1,figsize=(15,7))\n",
    "        for ii,strategy in enumerate(['mean', 'median','BayesianRidge',\n",
    "#                                       'DecisionTreeRegressor',#'RandomForestRegressor',\n",
    "                                      'MLPRegressor','ExtraTreesRegressor',\n",
    "                                      'KNeighborsRegressor']):\n",
    "            \n",
    "            lbl = '{}-{}-{}'.format(i,j,strategy)\n",
    "#             print(lbl)\n",
    "            filt = np.array(lblsf)==lbl\n",
    "            y = scr_col[:,4][filt].astype(float)\n",
    "            \n",
    "            \n",
    "#             print(x.shape,y.shape)\n",
    "            rects1 = ax.bar(x+ii*dx, y, dx, label=strategy)\n",
    "\n",
    "        ax.set_yticks([-0.5,0,0.2])\n",
    "        ax.set_ylim([-0.5,0.2])\n",
    "        ax.set_ylabel('$R^2$',fontsize=20)\n",
    "        ax.set_xticks(x+3*dx)\n",
    "\n",
    "        ax.tick_params(axis='both', which='major', labelsize=15)\n",
    "        ax.tick_params(axis='both', which='minor', labelsize=8)\n",
    "\n",
    "        ax.grid(True)\n",
    "        ax.set_xticklabels(labels,rotation=90)\n",
    "        ax.legend(fontsize=12,loc=0)"
   ]
  },
  {
   "cell_type": "code",
   "execution_count": null,
   "metadata": {},
   "outputs": [],
   "source": []
  },
  {
   "cell_type": "code",
   "execution_count": null,
   "metadata": {},
   "outputs": [],
   "source": []
  },
  {
   "cell_type": "code",
   "execution_count": null,
   "metadata": {},
   "outputs": [],
   "source": []
  },
  {
   "cell_type": "code",
   "execution_count": null,
   "metadata": {},
   "outputs": [],
   "source": []
  },
  {
   "cell_type": "code",
   "execution_count": null,
   "metadata": {},
   "outputs": [],
   "source": []
  },
  {
   "cell_type": "code",
   "execution_count": 57,
   "metadata": {},
   "outputs": [],
   "source": [
    "def rmse_loss(ori_data,imputed_data,data_m):\n",
    "#     ori_data, norm_parameters = normalization(ori_data)\n",
    "#     imputed_data, _ = normalization(imputed_data, norm_parameters)\n",
    "        \n",
    "    # Only for missing values\n",
    "    nominator = np.sum(data_m * ( ori_data - imputed_data)**2)\n",
    "    denominator = np.sum(data_m)\n",
    "    \n",
    "    rmse = np.sqrt(nominator/float(denominator))\n",
    "    \n",
    "    return rmse"
   ]
  },
  {
   "cell_type": "code",
   "execution_count": 59,
   "metadata": {},
   "outputs": [
    {
     "name": "stdout",
     "output_type": "stream",
     "text": [
      "[[nan nan nan nan nan nan nan nan nan nan nan nan nan nan nan nan nan nan\n",
      "  nan nan nan nan nan nan nan nan nan nan nan nan nan nan nan nan nan nan\n",
      "  nan nan nan nan nan nan nan nan nan]]\n"
     ]
    }
   ],
   "source": [
    "x = np.random.uniform(0,1,(1,dim))\n",
    "avl = np.random.uniform(0,1,(1,dim))>0.3\n",
    "imputed_data = generator.predict([x,avl])\n",
    "print(x-imputed_data)"
   ]
  },
  {
   "cell_type": "code",
   "execution_count": 60,
   "metadata": {},
   "outputs": [
    {
     "data": {
      "text/plain": [
       "(array([[ True, False,  True,  True,  True,  True,  True, False, False,\n",
       "         False,  True,  True, False, False,  True,  True,  True, False,\n",
       "          True, False, False,  True,  True,  True,  True,  True, False,\n",
       "         False,  True, False, False,  True,  True,  True,  True,  True,\n",
       "          True,  True, False,  True,  True,  True,  True,  True, False]]),\n",
       " array([[nan, nan, nan, nan, nan, nan, nan, nan, nan, nan, nan, nan, nan,\n",
       "         nan, nan, nan, nan, nan, nan, nan, nan, nan, nan, nan, nan, nan,\n",
       "         nan, nan, nan, nan, nan, nan, nan, nan, nan, nan, nan, nan, nan,\n",
       "         nan, nan, nan, nan, nan, nan]], dtype=float32))"
      ]
     },
     "execution_count": 60,
     "metadata": {},
     "output_type": "execute_result"
    }
   ],
   "source": [
    "avl,imputed_data"
   ]
  },
  {
   "cell_type": "code",
   "execution_count": 69,
   "metadata": {},
   "outputs": [
    {
     "data": {
      "text/plain": [
       "1.655617184273929e-08"
      ]
     },
     "execution_count": 69,
     "metadata": {},
     "output_type": "execute_result"
    }
   ],
   "source": [
    "rmse_loss (x, imputed_data, avl==1)"
   ]
  },
  {
   "cell_type": "code",
   "execution_count": 70,
   "metadata": {},
   "outputs": [
    {
     "data": {
      "text/plain": [
       "[0.2049209177494049, 0.0625]"
      ]
     },
     "execution_count": 70,
     "metadata": {},
     "output_type": "execute_result"
    }
   ],
   "source": [
    "d_loss"
   ]
  },
  {
   "cell_type": "code",
   "execution_count": 71,
   "metadata": {},
   "outputs": [
    {
     "data": {
      "text/plain": [
       "[0.011349719949066639, 0.11070205271244049, 0.01034616120159626]"
      ]
     },
     "execution_count": 71,
     "metadata": {},
     "output_type": "execute_result"
    }
   ],
   "source": [
    "g_loss"
   ]
  },
  {
   "cell_type": "code",
   "execution_count": 82,
   "metadata": {},
   "outputs": [
    {
     "name": "stdout",
     "output_type": "stream",
     "text": [
      "0.970953125\n",
      "(20000, 16) (20000, 16) (20000, 16)\n",
      "3.4905213789992255\n"
     ]
    }
   ],
   "source": [
    "## Return imputed data            \n",
    "\n",
    "\n",
    "# imputed_data = sess.run([G_sample], feed_dict = {X: X_mb, M: M_mb})[0]\n",
    "# imputed_data = data_m * norm_data_x + (1-data_m) * imputed_data\n",
    "\n",
    "#  = df.values.astype(float)\n",
    "# w_part\n",
    "\n",
    "avl = np.logical_not(np.isnan(w_part)).astype(float)\n",
    "# avl = np.isnan(w_part).astype(float)\n",
    "print(avl.mean())\n",
    "no2, dim2 = w_part.shape\n",
    "Z_mb = uniform_sampler(0, 0.01, no2, dim2)                    \n",
    "# w_part2 = avl * w_part + (1-avl) * Z_mb \n",
    "\n",
    "w_part2 = w_part+0\n",
    "w_part2[avl==0] = 0 #Z_mb[avl==0]\n",
    "\n",
    "imputed_data = generator.predict([w_part2,avl])\n",
    "# Renormalization\n",
    "imputed_data = renormalization(imputed_data, norm_parameters)    \n",
    "# Report the RMSE performance\n",
    "rmse = rmse_loss (orig_data, imputed_data, avl==0)\n",
    "\n",
    "print(orig_data.shape, imputed_data.shape, avl.shape)\n",
    "print(rmse)"
   ]
  },
  {
   "cell_type": "code",
   "execution_count": 81,
   "metadata": {},
   "outputs": [
    {
     "name": "stdout",
     "output_type": "stream",
     "text": [
      "91.82935781517817\n"
     ]
    }
   ],
   "source": [
    "rmse = rmse_loss (orig_data, imputed_data, avl==1)\n",
    "print(rmse)"
   ]
  },
  {
   "cell_type": "code",
   "execution_count": 41,
   "metadata": {},
   "outputs": [
    {
     "data": {
      "text/plain": [
       "0.970953125"
      ]
     },
     "execution_count": 41,
     "metadata": {},
     "output_type": "execute_result"
    }
   ],
   "source": [
    "avl.mean()"
   ]
  },
  {
   "cell_type": "code",
   "execution_count": 42,
   "metadata": {},
   "outputs": [
    {
     "data": {
      "text/plain": [
       "0.02545625"
      ]
     },
     "execution_count": 42,
     "metadata": {},
     "output_type": "execute_result"
    }
   ],
   "source": [
    "(imputed_data==w_part2).mean()"
   ]
  },
  {
   "cell_type": "code",
   "execution_count": null,
   "metadata": {},
   "outputs": [],
   "source": []
  }
 ],
 "metadata": {
  "kernelspec": {
   "display_name": "Python 3",
   "language": "python",
   "name": "python3"
  },
  "language_info": {
   "codemirror_mode": {
    "name": "ipython",
    "version": 3
   },
   "file_extension": ".py",
   "mimetype": "text/x-python",
   "name": "python",
   "nbconvert_exporter": "python",
   "pygments_lexer": "ipython3",
   "version": "3.8.5"
  }
 },
 "nbformat": 4,
 "nbformat_minor": 4
}
