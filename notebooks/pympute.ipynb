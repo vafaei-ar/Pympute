{
  "cells": [
    {
      "cell_type": "markdown",
      "metadata": {
        "id": "YJimzoE0joFm"
      },
      "source": [
        "# Pympute"
      ]
    },
    {
      "cell_type": "code",
      "execution_count": null,
      "metadata": {
        "colab": {
          "base_uri": "https://localhost:8080/"
        },
        "id": "x3nOFWwtkTuW",
        "outputId": "55718c21-b1e5-4ec1-c169-ea1029e2d289"
      },
      "outputs": [],
      "source": [
        "import locale\n",
        "locale.getpreferredencoding = lambda: \"UTF-8\"\n",
        "\n",
        "# This get the RAPIDS-Colab install files and test check your GPU.  Run this and the next cell only.\n",
        "# Please read the output of this cell.  If your Colab Instance is not RAPIDS compatible, it will warn you and give you remediation steps.\n",
        "from shutil import which\n",
        "if which('nvidia-smi') is not None:\n",
        "  !nvidia-smi\n",
        "  !rm -r rapidsai-csp-utils/\n",
        "  !git clone https://github.com/rapidsai/rapidsai-csp-utils.git\n",
        "  !python rapidsai-csp-utils/colab/pip-install.py\n",
        "else:\n",
        "  print(\"nvidia-smi not found. Skipping rapidsai installation.\")\n",
        "!pip -q install pyngrok streamlit"
      ]
    },
    {
      "cell_type": "code",
      "execution_count": null,
      "metadata": {
        "colab": {
          "base_uri": "https://localhost:8080/",
          "height": 463
        },
        "id": "nBh6nD712fto",
        "outputId": "895bc1ca-924f-40f2-fd24-81a79888aba1"
      },
      "outputs": [],
      "source": [
        "!pip -q install git+https://github.com/vafaei-ar/Pympute.git -q --ignore-installed\n",
        "!pkill pympute\n",
        "\n",
        "from pyngrok import ngrok\n",
        "from getpass import getpass\n",
        "\n",
        "get_ipython().system_raw('pympute --port 8501 &')\n",
        "# Terminate open tunnels if exist\n",
        "ngrok.kill()\n",
        "NGROK_AUTH_TOKEN = getpass('Enter the ngrok authtoken: ')\n",
        "ngrok.set_auth_token(NGROK_AUTH_TOKEN)\n",
        "ngrok_tunnel = ngrok.connect(addr=\"8501\", proto=\"http\", bind_tls=True)\n",
        "print(\"running UI at:\", ngrok_tunnel.public_url)"
      ]
    },
    {
      "cell_type": "code",
      "execution_count": null,
      "metadata": {
        "id": "ynAtJ1nWTOdI"
      },
      "outputs": [],
      "source": []
    }
  ],
  "metadata": {
    "colab": {
      "provenance": []
    },
    "kernelspec": {
      "display_name": "Python 3",
      "name": "python3"
    },
    "language_info": {
      "codemirror_mode": {
        "name": "ipython",
        "version": 3
      },
      "file_extension": ".py",
      "mimetype": "text/x-python",
      "name": "python",
      "nbconvert_exporter": "python",
      "pygments_lexer": "ipython3",
      "version": "3.11.11"
    }
  },
  "nbformat": 4,
  "nbformat_minor": 0
}
